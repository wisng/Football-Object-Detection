{
 "cells": [
  {
   "cell_type": "code",
   "execution_count": 1,
   "metadata": {},
   "outputs": [
    {
     "name": "stdout",
     "output_type": "stream",
     "text": [
      "Requirement already satisfied: roboflow in c:\\git_checkout\\football-object-detection\\football\\lib\\site-packages (1.1.28)\n",
      "Requirement already satisfied: numpy>=1.18.5 in c:\\git_checkout\\football-object-detection\\football\\lib\\site-packages (from roboflow) (1.26.4)\n",
      "Requirement already satisfied: python-dotenv in c:\\git_checkout\\football-object-detection\\football\\lib\\site-packages (from roboflow) (1.0.1)\n",
      "Requirement already satisfied: Pillow>=7.1.2 in c:\\git_checkout\\football-object-detection\\football\\lib\\site-packages (from roboflow) (10.3.0)\n",
      "Requirement already satisfied: cycler==0.10.0 in c:\\git_checkout\\football-object-detection\\football\\lib\\site-packages (from roboflow) (0.10.0)\n",
      "Requirement already satisfied: matplotlib in c:\\git_checkout\\football-object-detection\\football\\lib\\site-packages (from roboflow) (3.8.4)\n",
      "Requirement already satisfied: six in c:\\git_checkout\\football-object-detection\\football\\lib\\site-packages (from roboflow) (1.16.0)\n",
      "Requirement already satisfied: kiwisolver>=1.3.1 in c:\\git_checkout\\football-object-detection\\football\\lib\\site-packages (from roboflow) (1.4.5)\n",
      "Requirement already satisfied: tqdm>=4.41.0 in c:\\git_checkout\\football-object-detection\\football\\lib\\site-packages (from roboflow) (4.66.2)\n",
      "Requirement already satisfied: requests in c:\\git_checkout\\football-object-detection\\football\\lib\\site-packages (from roboflow) (2.31.0)\n",
      "Requirement already satisfied: python-dateutil in c:\\git_checkout\\football-object-detection\\football\\lib\\site-packages (from roboflow) (2.9.0.post0)\n",
      "Requirement already satisfied: idna==2.10 in c:\\git_checkout\\football-object-detection\\football\\lib\\site-packages (from roboflow) (2.10)\n",
      "Requirement already satisfied: certifi==2023.7.22 in c:\\git_checkout\\football-object-detection\\football\\lib\\site-packages (from roboflow) (2023.7.22)\n",
      "Requirement already satisfied: opencv-python-headless==4.8.0.74 in c:\\git_checkout\\football-object-detection\\football\\lib\\site-packages (from roboflow) (4.8.0.74)\n",
      "Requirement already satisfied: PyYAML>=5.3.1 in c:\\git_checkout\\football-object-detection\\football\\lib\\site-packages (from roboflow) (6.0.1)\n",
      "Requirement already satisfied: chardet==4.0.0 in c:\\git_checkout\\football-object-detection\\football\\lib\\site-packages (from roboflow) (4.0.0)\n",
      "Requirement already satisfied: python-magic in c:\\git_checkout\\football-object-detection\\football\\lib\\site-packages (from roboflow) (0.4.27)\n",
      "Requirement already satisfied: requests-toolbelt in c:\\git_checkout\\football-object-detection\\football\\lib\\site-packages (from roboflow) (1.0.0)\n",
      "Requirement already satisfied: urllib3>=1.26.6 in c:\\git_checkout\\football-object-detection\\football\\lib\\site-packages (from roboflow) (2.2.1)\n",
      "Requirement already satisfied: colorama in c:\\git_checkout\\football-object-detection\\football\\lib\\site-packages (from tqdm>=4.41.0->roboflow) (0.4.6)\n",
      "Requirement already satisfied: fonttools>=4.22.0 in c:\\git_checkout\\football-object-detection\\football\\lib\\site-packages (from matplotlib->roboflow) (4.51.0)\n",
      "Requirement already satisfied: contourpy>=1.0.1 in c:\\git_checkout\\football-object-detection\\football\\lib\\site-packages (from matplotlib->roboflow) (1.2.1)\n",
      "Requirement already satisfied: pyparsing>=2.3.1 in c:\\git_checkout\\football-object-detection\\football\\lib\\site-packages (from matplotlib->roboflow) (3.1.2)\n",
      "Requirement already satisfied: packaging>=20.0 in c:\\git_checkout\\football-object-detection\\football\\lib\\site-packages (from matplotlib->roboflow) (24.0)\n",
      "Requirement already satisfied: charset-normalizer<4,>=2 in c:\\git_checkout\\football-object-detection\\football\\lib\\site-packages (from requests->roboflow) (3.3.2)\n"
     ]
    },
    {
     "name": "stderr",
     "output_type": "stream",
     "text": [
      "WARNING: Ignoring invalid distribution -ltralytics (c:\\git_checkout\\football-object-detection\\football\\lib\\site-packages)\n",
      "WARNING: Ignoring invalid distribution -ltralytics (c:\\git_checkout\\football-object-detection\\football\\lib\\site-packages)\n",
      "WARNING: Ignoring invalid distribution -ltralytics (c:\\git_checkout\\football-object-detection\\football\\lib\\site-packages)\n",
      "WARNING: Ignoring invalid distribution -ltralytics (c:\\git_checkout\\football-object-detection\\football\\lib\\site-packages)\n",
      "WARNING: Ignoring invalid distribution -ltralytics (c:\\git_checkout\\football-object-detection\\football\\lib\\site-packages)\n",
      "WARNING: Ignoring invalid distribution -ltralytics (c:\\git_checkout\\football-object-detection\\football\\lib\\site-packages)\n",
      "\n",
      "[notice] A new release of pip is available: 23.0.1 -> 24.0\n",
      "[notice] To update, run: python.exe -m pip install --upgrade pip\n"
     ]
    },
    {
     "name": "stdout",
     "output_type": "stream",
     "text": [
      "loading Roboflow workspace...\n",
      "loading Roboflow project...\n"
     ]
    },
    {
     "name": "stderr",
     "output_type": "stream",
     "text": [
      "Downloading Dataset Version Zip in FBall-1 to yolov5pytorch:: 100%|██████████| 63836/63836 [00:21<00:00, 2956.99it/s]"
     ]
    },
    {
     "name": "stdout",
     "output_type": "stream",
     "text": [
      "\n"
     ]
    },
    {
     "name": "stderr",
     "output_type": "stream",
     "text": [
      "\n",
      "Extracting Dataset Version Zip to FBall-1 in yolov5pytorch:: 100%|██████████| 2072/2072 [00:00<00:00, 2154.52it/s]\n"
     ]
    }
   ],
   "source": [
    "!pip install roboflow\n",
    "\n",
    "from roboflow import Roboflow\n",
    "rf = Roboflow(api_key=\"MPIdz5kk1Pw2hGyIVucr\") #API KEY has been revoked :)\n",
    "project = rf.workspace(\"alina-wang-pa0sr\").project(\"fball\")\n",
    "version = project.version(1)\n",
    "dataset = version.download(\"yolov5\")\n"
   ]
  },
  {
   "cell_type": "code",
   "execution_count": 20,
   "metadata": {},
   "outputs": [],
   "source": [
    "import os\n",
    "import shutil\n",
    "\n",
    "# Source and destination folders\n",
    "src_folder_test_images = 'FBall-1/FBall-1/test/images'\n",
    "src_folder_test_labels = 'FBall-1/FBall-1/test/labels'\n",
    "src_folder_train_images = 'FBall-1/FBall-1/train/images'\n",
    "src_folder_train_labels = 'FBall-1/FBall-1/train/labels'\n",
    "src_folder_valid_images = 'FBall-1/FBall-1/valid/images'\n",
    "src_folder_valid_labels = 'FBall-1/FBall-1/valid/labels'\n",
    "\n",
    "dest_folder_test_images = 'Ball_dataset_specific/Ball_dataset_specific/test/images'\n",
    "dest_folder_test_labels = 'Ball_dataset_specific/Ball_dataset_specific/test/labels'\n",
    "dest_folder_train_images = 'Ball_dataset_specific/Ball_dataset_specific/train/images'\n",
    "dest_folder_train_labels = 'Ball_dataset_specific/Ball_dataset_specific/train/labels'\n",
    "dest_folder_valid_images = 'Ball_dataset_specific/Ball_dataset_specific/valid/images'\n",
    "dest_folder_valid_labels = 'Ball_dataset_specific/Ball_dataset_specific/valid/labels'\n",
    "\n",
    "# Get the list of image files in the source folder\n",
    "src_folder_test_images_files = [f for f in os.listdir(src_folder_test_images)]\n",
    "src_folder_test_labels_files = [f for f in os.listdir(src_folder_test_labels)]\n",
    "src_folder_train_images_files = [f for f in os.listdir(src_folder_train_images)]\n",
    "src_folder_train_labels_files = [f for f in os.listdir(src_folder_train_labels)]\n",
    "src_folder_valid_images_files = [f for f in os.listdir(src_folder_valid_images)]\n",
    "src_folder_valid_labels_files = [f for f in os.listdir(src_folder_valid_labels)]\n",
    "\n",
    "for f in src_folder_test_images_files[:2]:\n",
    "    shutil.move(os.path.join(src_folder_test_images, f), dest_folder_test_images)\n",
    "\n",
    "for f in src_folder_test_labels_files[:2]:\n",
    "    shutil.move(os.path.join(src_folder_test_labels, f), dest_folder_test_labels)\n",
    "\n",
    "for f in src_folder_train_images_files[:50]:\n",
    "    shutil.move(os.path.join(src_folder_train_images, f), dest_folder_train_images)\n",
    "\n",
    "for f in src_folder_train_labels_files[:50]:\n",
    "    shutil.move(os.path.join(src_folder_train_labels, f), dest_folder_train_labels)\n",
    "\n",
    "for f in src_folder_valid_images_files[:50]:\n",
    "    shutil.move(os.path.join(src_folder_valid_images, f), dest_folder_valid_images)\n",
    "\n",
    "for f in src_folder_valid_labels_files[:50]:\n",
    "    shutil.move(os.path.join(src_folder_valid_labels, f), dest_folder_valid_labels)\n",
    "    "
   ]
  },
  {
   "cell_type": "code",
   "execution_count": 9,
   "metadata": {},
   "outputs": [],
   "source": [
    "new_loc = 'c:\\\\git_checkout\\\\Football-Object-Detection\\\\training\\\\Ball_dataset_specific'"
   ]
  },
  {
   "cell_type": "code",
   "execution_count": 2,
   "metadata": {},
   "outputs": [
    {
     "data": {
      "text/plain": [
       "'FBall-1/FBall-1/valid'"
      ]
     },
     "execution_count": 2,
     "metadata": {},
     "output_type": "execute_result"
    }
   ],
   "source": [
    "import shutil\n",
    "\n",
    "shutil.move('FBall-1/train', 'FBall-1/FBall-1/train')\n",
    "shutil.move('FBall-1/test', 'FBall-1/FBall-1/test')\n",
    "shutil.move('FBall-1/valid', 'FBall-1/FBall-1/valid')"
   ]
  },
  {
   "cell_type": "code",
   "execution_count": 21,
   "metadata": {},
   "outputs": [
    {
     "name": "stdout",
     "output_type": "stream",
     "text": [
      "New https://pypi.org/project/ultralytics/8.2.16 available 😃 Update with 'pip install -U ultralytics'\n",
      "Ultralytics YOLOv8.2.6 🚀 Python-3.10.11 torch-2.3.0+cu118 CPU (AMD Ryzen 7 5700G with Radeon Graphics)\n",
      "\u001b[34m\u001b[1mengine\\trainer: \u001b[0mtask=detect, mode=train, model=../runs/detect/train3/weights/best.pt, data=c:\\git_checkout\\Football-Object-Detection\\training\\Ball_dataset_specific/new_data.yaml, epochs=1, time=None, patience=100, batch=16, imgsz=640, save=True, save_period=-1, cache=False, device=cpu, workers=8, project=None, name=train4, exist_ok=False, pretrained=True, optimizer=auto, verbose=True, seed=0, deterministic=True, single_cls=False, rect=False, cos_lr=False, close_mosaic=10, resume=False, amp=True, fraction=1.0, profile=False, freeze=None, multi_scale=False, overlap_mask=True, mask_ratio=4, dropout=0.0, val=True, split=val, save_json=False, save_hybrid=False, conf=None, iou=0.7, max_det=300, half=False, dnn=False, plots=True, source=None, vid_stride=1, stream_buffer=False, visualize=False, augment=False, agnostic_nms=False, classes=None, retina_masks=False, embed=None, show=False, save_frames=False, save_txt=False, save_conf=False, save_crop=False, show_labels=True, show_conf=True, show_boxes=True, line_width=None, format=torchscript, keras=False, optimize=False, int8=False, dynamic=False, simplify=False, opset=None, workspace=4, nms=False, lr0=0.01, lrf=0.01, momentum=0.937, weight_decay=0.0005, warmup_epochs=3.0, warmup_momentum=0.8, warmup_bias_lr=0.1, box=7.5, cls=0.5, dfl=1.5, pose=12.0, kobj=1.0, label_smoothing=0.0, nbs=64, hsv_h=0.015, hsv_s=0.7, hsv_v=0.4, degrees=0.0, translate=0.1, scale=0.5, shear=0.0, perspective=0.0, flipud=0.0, fliplr=0.5, bgr=0.0, mosaic=1.0, mixup=0.0, copy_paste=0.0, auto_augment=randaugment, erasing=0.4, crop_fraction=1.0, cfg=None, tracker=botsort.yaml, save_dir=C:\\git_checkout\\Football-Object-Detection\\runs\\detect\\train4\n",
      "\n",
      "                   from  n    params  module                                       arguments                     \n",
      "  0                  -1  1      1760  ultralytics.nn.modules.conv.Conv             [3, 16, 6, 2, 2]              \n",
      "  1                  -1  1      4672  ultralytics.nn.modules.conv.Conv             [16, 32, 3, 2]                \n",
      "  2                  -1  1      4800  ultralytics.nn.modules.block.C3              [32, 32, 1]                   \n",
      "  3                  -1  1     18560  ultralytics.nn.modules.conv.Conv             [32, 64, 3, 2]                \n",
      "  4                  -1  2     29184  ultralytics.nn.modules.block.C3              [64, 64, 2]                   \n",
      "  5                  -1  1     73984  ultralytics.nn.modules.conv.Conv             [64, 128, 3, 2]               \n",
      "  6                  -1  3    156928  ultralytics.nn.modules.block.C3              [128, 128, 3]                 \n",
      "  7                  -1  1    295424  ultralytics.nn.modules.conv.Conv             [128, 256, 3, 2]              \n",
      "  8                  -1  1    296448  ultralytics.nn.modules.block.C3              [256, 256, 1]                 \n",
      "  9                  -1  1    164608  ultralytics.nn.modules.block.SPPF            [256, 256, 5]                 \n",
      " 10                  -1  1     33024  ultralytics.nn.modules.conv.Conv             [256, 128, 1, 1]              \n",
      " 11                  -1  1         0  torch.nn.modules.upsampling.Upsample         [None, 2, 'nearest']          \n",
      " 12             [-1, 6]  1         0  ultralytics.nn.modules.conv.Concat           [1]                           \n",
      " 13                  -1  1     90880  ultralytics.nn.modules.block.C3              [256, 128, 1, False]          \n",
      " 14                  -1  1      8320  ultralytics.nn.modules.conv.Conv             [128, 64, 1, 1]               \n",
      " 15                  -1  1         0  torch.nn.modules.upsampling.Upsample         [None, 2, 'nearest']          \n",
      " 16             [-1, 4]  1         0  ultralytics.nn.modules.conv.Concat           [1]                           \n",
      " 17                  -1  1     22912  ultralytics.nn.modules.block.C3              [128, 64, 1, False]           \n",
      " 18                  -1  1     36992  ultralytics.nn.modules.conv.Conv             [64, 64, 3, 2]                \n",
      " 19            [-1, 14]  1         0  ultralytics.nn.modules.conv.Concat           [1]                           \n",
      " 20                  -1  1     74496  ultralytics.nn.modules.block.C3              [128, 128, 1, False]          \n",
      " 21                  -1  1    147712  ultralytics.nn.modules.conv.Conv             [128, 128, 3, 2]              \n",
      " 22            [-1, 10]  1         0  ultralytics.nn.modules.conv.Concat           [1]                           \n",
      " 23                  -1  1    296448  ultralytics.nn.modules.block.C3              [256, 256, 1, False]          \n",
      " 24        [17, 20, 23]  1    752092  ultralytics.nn.modules.head.Detect           [4, [64, 128, 256]]           \n",
      "YOLOv5n summary: 262 layers, 2509244 parameters, 2509228 gradients, 7.2 GFLOPs\n",
      "\n",
      "Transferred 427/427 items from pretrained weights\n",
      "Freezing layer 'model.24.dfl.conv.weight'\n",
      "\u001b[34m\u001b[1mtrain: \u001b[0mNew cache created: C:\\git_checkout\\Football-Object-Detection\\training\\Ball_dataset_specific\\Ball_dataset_specific\\train\\labels.cache\n",
      "\u001b[34m\u001b[1mval: \u001b[0mNew cache created: C:\\git_checkout\\Football-Object-Detection\\training\\Ball_dataset_specific\\Ball_dataset_specific\\valid\\labels.cache\n",
      "Plotting labels to C:\\git_checkout\\Football-Object-Detection\\runs\\detect\\train4\\labels.jpg... \n",
      "\u001b[34m\u001b[1moptimizer:\u001b[0m 'optimizer=auto' found, ignoring 'lr0=0.01' and 'momentum=0.937' and determining best 'optimizer', 'lr0' and 'momentum' automatically... \n",
      "\u001b[34m\u001b[1moptimizer:\u001b[0m AdamW(lr=0.00125, momentum=0.9) with parameter groups 69 weight(decay=0.0), 76 weight(decay=0.0005), 75 bias(decay=0.0)\n",
      "Image sizes 640 train, 640 val\n",
      "Using 0 dataloader workers\n",
      "Logging results to \u001b[1mC:\\git_checkout\\Football-Object-Detection\\runs\\detect\\train4\u001b[0m\n",
      "Starting training for 1 epochs...\n",
      "\n",
      "      Epoch    GPU_mem   box_loss   cls_loss   dfl_loss  Instances       Size\n",
      "                   all         96        968      0.859      0.567      0.639      0.406\n",
      "\n",
      "1 epochs completed in 0.025 hours.\n",
      "Optimizer stripped from C:\\git_checkout\\Football-Object-Detection\\runs\\detect\\train4\\weights\\last.pt, 5.3MB\n",
      "Optimizer stripped from C:\\git_checkout\\Football-Object-Detection\\runs\\detect\\train4\\weights\\best.pt, 5.3MB\n",
      "\n",
      "Validating C:\\git_checkout\\Football-Object-Detection\\runs\\detect\\train4\\weights\\best.pt...\n",
      "Ultralytics YOLOv8.2.6 🚀 Python-3.10.11 torch-2.3.0+cu118 CPU (AMD Ryzen 7 5700G with Radeon Graphics)\n",
      "YOLOv5n summary (fused): 193 layers, 2503724 parameters, 0 gradients, 7.1 GFLOPs\n",
      "                   all         96        968      0.863      0.562      0.638      0.406\n",
      "                  ball         96         98          1          0    0.00402   0.000402\n",
      "            goalkeeper         96         27      0.812      0.741      0.893      0.588\n",
      "                player         96        754      0.927      0.902      0.965      0.643\n",
      "               referee         96         89      0.712      0.607      0.692      0.391\n",
      "Speed: 1.3ms preprocess, 61.5ms inference, 0.0ms loss, 0.4ms postprocess per image\n",
      "Results saved to \u001b[1mC:\\git_checkout\\Football-Object-Detection\\runs\\detect\\train4\u001b[0m\n",
      "💡 Learn more at https://docs.ultralytics.com/modes/train\n"
     ]
    },
    {
     "name": "stderr",
     "output_type": "stream",
     "text": [
      "\n",
      "\u001b[34m\u001b[1mtrain: \u001b[0mScanning C:\\git_checkout\\Football-Object-Detection\\training\\Ball_dataset_specific\\Ball_dataset_specific\\train\\labels...:   0%|          | 0/262 [00:00<?, ?it/s]\n",
      "\u001b[34m\u001b[1mtrain: \u001b[0mScanning C:\\git_checkout\\Football-Object-Detection\\training\\Ball_dataset_specific\\Ball_dataset_specific\\train\\labels... 168 images, 0 backgrounds, 0 corrupt:  64%|██████▍   | 168/262 [00:00<00:00, 1679.98it/s]\n",
      "\u001b[34m\u001b[1mtrain: \u001b[0mScanning C:\\git_checkout\\Football-Object-Detection\\training\\Ball_dataset_specific\\Ball_dataset_specific\\train\\labels... 262 images, 0 backgrounds, 0 corrupt: 100%|██████████| 262/262 [00:00<00:00, 1822.85it/s]\n",
      "\n",
      "\u001b[34m\u001b[1mval: \u001b[0mScanning C:\\git_checkout\\Football-Object-Detection\\training\\Ball_dataset_specific\\Ball_dataset_specific\\valid\\labels...:   0%|          | 0/96 [00:00<?, ?it/s]\n",
      "\u001b[34m\u001b[1mval: \u001b[0mScanning C:\\git_checkout\\Football-Object-Detection\\training\\Ball_dataset_specific\\Ball_dataset_specific\\valid\\labels... 96 images, 0 backgrounds, 0 corrupt: 100%|██████████| 96/96 [00:00<00:00, 2341.37it/s]\n",
      "\n",
      "  0%|          | 0/17 [00:00<?, ?it/s]\n",
      "        1/1         0G      1.323     0.9936     0.8633        380        640:   0%|          | 0/17 [00:04<?, ?it/s]\n",
      "        1/1         0G      1.323     0.9936     0.8633        380        640:   6%|▌         | 1/17 [00:04<01:14,  4.67s/it]\n",
      "        1/1         0G      1.221     0.8671     0.8483        401        640:   6%|▌         | 1/17 [00:09<01:14,  4.67s/it]\n",
      "        1/1         0G      1.221     0.8671     0.8483        401        640:  12%|█▏        | 2/17 [00:09<01:11,  4.74s/it]\n",
      "        1/1         0G      1.155     0.7641     0.8386        464        640:  12%|█▏        | 2/17 [00:14<01:11,  4.74s/it]\n",
      "        1/1         0G      1.155     0.7641     0.8386        464        640:  18%|█▊        | 3/17 [00:14<01:05,  4.71s/it]\n",
      "        1/1         0G      1.171     0.7624     0.8391        487        640:  18%|█▊        | 3/17 [00:18<01:05,  4.71s/it]\n",
      "        1/1         0G      1.171     0.7624     0.8391        487        640:  24%|██▎       | 4/17 [00:18<01:01,  4.76s/it]\n",
      "        1/1         0G      1.158     0.7498     0.8379        484        640:  24%|██▎       | 4/17 [00:23<01:01,  4.76s/it]\n",
      "        1/1         0G      1.158     0.7498     0.8379        484        640:  29%|██▉       | 5/17 [00:23<00:56,  4.70s/it]\n",
      "        1/1         0G      1.145     0.7383     0.8347        404        640:  29%|██▉       | 5/17 [00:28<00:56,  4.70s/it]\n",
      "        1/1         0G      1.145     0.7383     0.8347        404        640:  35%|███▌      | 6/17 [00:28<00:52,  4.81s/it]\n",
      "        1/1         0G      1.151     0.7283     0.8345        503        640:  35%|███▌      | 6/17 [00:33<00:52,  4.81s/it]\n",
      "        1/1         0G      1.151     0.7283     0.8345        503        640:  41%|████      | 7/17 [00:33<00:48,  4.81s/it]\n",
      "        1/1         0G      1.178     0.7363     0.8346        625        640:  41%|████      | 7/17 [00:38<00:48,  4.81s/it]\n",
      "        1/1         0G      1.178     0.7363     0.8346        625        640:  47%|████▋     | 8/17 [00:38<00:43,  4.84s/it]\n",
      "        1/1         0G      1.196     0.7365     0.8338        637        640:  47%|████▋     | 8/17 [00:43<00:43,  4.84s/it]\n",
      "        1/1         0G      1.196     0.7365     0.8338        637        640:  53%|█████▎    | 9/17 [00:43<00:38,  4.83s/it]\n",
      "        1/1         0G      1.194     0.7268     0.8342        565        640:  53%|█████▎    | 9/17 [00:48<00:38,  4.83s/it]\n",
      "        1/1         0G      1.194     0.7268     0.8342        565        640:  59%|█████▉    | 10/17 [00:48<00:34,  4.86s/it]\n",
      "        1/1         0G      1.186     0.7201     0.8343        528        640:  59%|█████▉    | 10/17 [00:52<00:34,  4.86s/it]\n",
      "        1/1         0G      1.186     0.7201     0.8343        528        640:  65%|██████▍   | 11/17 [00:52<00:28,  4.81s/it]\n",
      "        1/1         0G      1.189     0.7208     0.8348        502        640:  65%|██████▍   | 11/17 [00:57<00:28,  4.81s/it]\n",
      "        1/1         0G      1.189     0.7208     0.8348        502        640:  71%|███████   | 12/17 [00:57<00:24,  4.81s/it]\n",
      "        1/1         0G      1.189     0.7203     0.8331        475        640:  71%|███████   | 12/17 [01:02<00:24,  4.81s/it]\n",
      "        1/1         0G      1.189     0.7203     0.8331        475        640:  76%|███████▋  | 13/17 [01:02<00:19,  4.77s/it]\n",
      "        1/1         0G       1.18     0.7149     0.8322        411        640:  76%|███████▋  | 13/17 [01:06<00:19,  4.77s/it]\n",
      "        1/1         0G       1.18     0.7149     0.8322        411        640:  82%|████████▏ | 14/17 [01:06<00:14,  4.76s/it]\n",
      "        1/1         0G       1.19     0.7188     0.8308        682        640:  82%|████████▏ | 14/17 [01:11<00:14,  4.76s/it]\n",
      "        1/1         0G       1.19     0.7188     0.8308        682        640:  88%|████████▊ | 15/17 [01:11<00:09,  4.79s/it]\n",
      "        1/1         0G      1.198     0.7269      0.832        514        640:  88%|████████▊ | 15/17 [01:16<00:09,  4.79s/it]\n",
      "        1/1         0G      1.198     0.7269      0.832        514        640:  94%|█████████▍| 16/17 [01:16<00:04,  4.82s/it]\n",
      "        1/1         0G      1.204     0.7275     0.8316        178        640:  94%|█████████▍| 16/17 [01:18<00:04,  4.82s/it]\n",
      "        1/1         0G      1.204     0.7275     0.8316        178        640: 100%|██████████| 17/17 [01:18<00:00,  3.97s/it]\n",
      "        1/1         0G      1.204     0.7275     0.8316        178        640: 100%|██████████| 17/17 [01:18<00:00,  4.63s/it]\n",
      "\n",
      "                 Class     Images  Instances      Box(P          R      mAP50  mAP50-95):   0%|          | 0/3 [00:00<?, ?it/s]\n",
      "                 Class     Images  Instances      Box(P          R      mAP50  mAP50-95):  33%|███▎      | 1/3 [00:02<00:05,  2.67s/it]\n",
      "                 Class     Images  Instances      Box(P          R      mAP50  mAP50-95):  67%|██████▋   | 2/3 [00:06<00:03,  3.34s/it]\n",
      "                 Class     Images  Instances      Box(P          R      mAP50  mAP50-95): 100%|██████████| 3/3 [00:09<00:00,  3.30s/it]\n",
      "                 Class     Images  Instances      Box(P          R      mAP50  mAP50-95): 100%|██████████| 3/3 [00:09<00:00,  3.24s/it]\n",
      "\n",
      "                 Class     Images  Instances      Box(P          R      mAP50  mAP50-95):   0%|          | 0/3 [00:00<?, ?it/s]\n",
      "                 Class     Images  Instances      Box(P          R      mAP50  mAP50-95):  33%|███▎      | 1/3 [00:02<00:04,  2.03s/it]\n",
      "                 Class     Images  Instances      Box(P          R      mAP50  mAP50-95):  67%|██████▋   | 2/3 [00:04<00:02,  2.49s/it]\n",
      "                 Class     Images  Instances      Box(P          R      mAP50  mAP50-95): 100%|██████████| 3/3 [00:07<00:00,  2.58s/it]\n",
      "                 Class     Images  Instances      Box(P          R      mAP50  mAP50-95): 100%|██████████| 3/3 [00:07<00:00,  2.51s/it]\n"
     ]
    }
   ],
   "source": [
    "!yolo task=detect mode=train model=../runs/detect/train3/weights/best.pt data={new_loc}/new_data.yaml epochs=1 imgsz=640 device='cpu'"
   ]
  }
 ],
 "metadata": {
  "kernelspec": {
   "display_name": "football",
   "language": "python",
   "name": "python3"
  },
  "language_info": {
   "codemirror_mode": {
    "name": "ipython",
    "version": 3
   },
   "file_extension": ".py",
   "mimetype": "text/x-python",
   "name": "python",
   "nbconvert_exporter": "python",
   "pygments_lexer": "ipython3",
   "version": "3.10.11"
  }
 },
 "nbformat": 4,
 "nbformat_minor": 2
}
